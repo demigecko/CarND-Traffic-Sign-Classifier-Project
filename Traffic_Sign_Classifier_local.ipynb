{
 "cells": [
  {
   "cell_type": "markdown",
   "metadata": {},
   "source": [
    "# Self-Driving Car Engineer Nanodegree\n",
    "\n",
    "## Deep Learning\n",
    "\n",
    "## Project: Build a Traffic Sign Recognition Classifier\n",
    "\n",
    "In this notebook, a template is provided for you to implement your functionality in stages, which is required to successfully complete this project. If additional code is required that cannot be included in the notebook, be sure that the Python code is successfully imported and included in your submission if necessary. \n",
    "\n",
    "> **Note**: Once you have completed all of the code implementations, you need to finalize your work by exporting the iPython Notebook as an HTML document. Before exporting the notebook to html, all of the code cells need to have been run so that reviewers can see the final implementation and output. You can then export the notebook by using the menu above and navigating to  \\n\",\n",
    "    \"**File -> Download as -> HTML (.html)**. Include the finished document along with this notebook as your submission. \n",
    "\n",
    "In addition to implementing code, there is a writeup to complete. The writeup should be completed in a separate file, which can be either a markdown file or a pdf document. There is a [write up template](https://github.com/udacity/CarND-Traffic-Sign-Classifier-Project/blob/master/writeup_template.md) that can be used to guide the writing process. Completing the code template and writeup template will cover all of the [rubric points](https://review.udacity.com/#!/rubrics/481/view) for this project.\n",
    "\n",
    "The [rubric](https://review.udacity.com/#!/rubrics/481/view) contains \"Stand Out Suggestions\" for enhancing the project beyond the minimum requirements. The stand out suggestions are optional. If you decide to pursue the \"stand out suggestions\", you can include the code in this Ipython notebook and also discuss the results in the writeup file.\n",
    "\n",
    "\n",
    ">**Note:** Code and Markdown cells can be executed using the **Shift + Enter** keyboard shortcut. In addition, Markdown cells can be edited by typically double-clicking the cell to enter edit mode."
   ]
  },
  {
   "cell_type": "markdown",
   "metadata": {},
   "source": [
    "---\n",
    "## Load the Packages"
   ]
  },
  {
   "cell_type": "code",
   "execution_count": 1,
   "metadata": {},
   "outputs": [],
   "source": [
    "import pickle\n",
    "import pandas as pd\n",
    "import random\n",
    "import numpy as np\n",
    "import matplotlib.pyplot as plt\n",
    "%matplotlib inline\n",
    "import matplotlib.image as mpimg\n",
    "import csv\n",
    "import cv2 \n",
    "import tensorflow as tf\n",
    "import skimage"
   ]
  },
  {
   "cell_type": "markdown",
   "metadata": {},
   "source": [
    "---\n",
    "## Step 0: Load The Data"
   ]
  },
  {
   "cell_type": "code",
   "execution_count": 2,
   "metadata": {},
   "outputs": [],
   "source": [
    "# Load pickled data\n",
    "# TODO: Fill this in based on where you saved the training and testing data\n",
    "            \n",
    "training_file = \"traffic-signs-data/train.p\"\n",
    "validation_file= \"traffic-signs-data/valid.p\"\n",
    "testing_file = \"traffic-signs-data/test.p\"\n",
    "\n",
    "with open(training_file, mode='rb') as f:\n",
    "    train = pickle.load(f)\n",
    "with open(validation_file, mode='rb') as f:\n",
    "    valid = pickle.load(f)\n",
    "with open(testing_file, mode='rb') as f:\n",
    "    test = pickle.load(f)\n",
    "    \n",
    "X_train, y_train = train['features'], train['labels']\n",
    "X_valid, y_valid = valid['features'], valid['labels']\n",
    "X_test, y_test = test['features'], test['labels']"
   ]
  },
  {
   "cell_type": "markdown",
   "metadata": {},
   "source": [
    "---\n",
    "\n",
    "## Step 1: Dataset Summary & Exploration\n",
    "\n",
    "The pickled data is a dictionary with 4 key/value pairs:\n",
    "\n",
    "- `'features'` is a 4D array containing raw pixel data of the traffic sign images, (num examples, width, height, channels).\n",
    "- `'labels'` is a 1D array containing the label/class id of the traffic sign. The file `signnames.csv` contains id -> name mappings for each id.\n",
    "- `'sizes'` is a list containing tuples, (width, height) representing the original width and height the image.\n",
    "- `'coords'` is a list containing tuples, (x1, y1, x2, y2) representing coordinates of a bounding box around the sign in the image. **THESE COORDINATES ASSUME THE ORIGINAL IMAGE. THE PICKLED DATA CONTAINS RESIZED VERSIONS (32 by 32) OF THESE IMAGES**\n",
    "\n",
    "Complete the basic data summary below. Use python, numpy and/or pandas methods to calculate the data summary rather than hard coding the results. For example, the [pandas shape method](http://pandas.pydata.org/pandas-docs/stable/generated/pandas.DataFrame.shape.html) might be useful for calculating some of the summary results. "
   ]
  },
  {
   "cell_type": "markdown",
   "metadata": {},
   "source": [
    "### Provide a Basic Summary of the Data Set Using Python, Numpy and/or Pandas"
   ]
  },
  {
   "cell_type": "code",
   "execution_count": 3,
   "metadata": {},
   "outputs": [
    {
     "name": "stdout",
     "output_type": "stream",
     "text": [
      "Number of training examples = 34799\n",
      "Number of validation examples = 4410\n",
      "Number of testing examples = 12630\n",
      "Image data shape = (32, 32, 3)\n",
      "Number of classes = 43\n"
     ]
    }
   ],
   "source": [
    "### Replace each question mark with the appropriate value. \n",
    "### Use python, pandas or numpy methods rather than hard coding the results\n",
    "# TODO: Number of training examples\n",
    "n_train = y_train.shape[0]\n",
    "\n",
    "# TODO: Number of validation examples\n",
    "n_validation = y_valid.shape[0]\n",
    "\n",
    "# TODO: Number of testing examples.\n",
    "n_test = y_test.shape[0]\n",
    "\n",
    "# TODO: What's the shape of an traffic sign image?\n",
    "image_shape = X_train.shape[1:]\n",
    "\n",
    "# TODO: How many unique classes/labels there are in the dataset.\n",
    "n_classes = len(np.unique(y_train))\n",
    "\n",
    "print(\"Number of training examples =\", n_train)\n",
    "print(\"Number of validation examples =\", n_validation)\n",
    "print(\"Number of testing examples =\", n_test)\n",
    "print(\"Image data shape =\", image_shape)\n",
    "print(\"Number of classes =\", n_classes)"
   ]
  },
  {
   "cell_type": "markdown",
   "metadata": {},
   "source": [
    "### Include an exploratory visualization of the dataset"
   ]
  },
  {
   "cell_type": "markdown",
   "metadata": {},
   "source": [
    "Visualize the German Traffic Signs Dataset using the pickled file(s). This is open ended, suggestions include: plotting traffic sign images, plotting the count of each sign, etc. \n",
    "\n",
    "The [Matplotlib](http://matplotlib.org/) [examples](http://matplotlib.org/examples/index.html) and [gallery](http://matplotlib.org/gallery.html) pages are a great resource for doing visualizations in Python.\n",
    "\n",
    "**NOTE:** It's recommended you start with something simple first. If you wish to do more, come back to it after you've completed the rest of the sections. It can be interesting to look at the distribution of classes in the training, validation and test set. Is the distribution the same? Are there more examples of some classes than others?"
   ]
  },
  {
   "cell_type": "code",
   "execution_count": 4,
   "metadata": {},
   "outputs": [
    {
     "data": {
      "text/plain": [
       "['0', 'Speed limit (20km/h)']"
      ]
     },
     "execution_count": 4,
     "metadata": {},
     "output_type": "execute_result"
    }
   ],
   "source": [
    "def csv_dict_list(variables_file):\n",
    "    with open(variables_file, newline='') as csvfile:\n",
    "        reader = csv.DictReader(csvfile)\n",
    "        dict_list = []\n",
    "        for row in reader:\n",
    "            dict_list.append([row['ClassId'], row['SignName']])\n",
    "    return dict_list\n",
    "\n",
    "signnames = csv_dict_list('signnames.csv')\n",
    "list(signnames)[0]"
   ]
  },
  {
   "cell_type": "code",
   "execution_count": 5,
   "metadata": {},
   "outputs": [],
   "source": [
    "signnames;"
   ]
  },
  {
   "cell_type": "code",
   "execution_count": 5,
   "metadata": {},
   "outputs": [
    {
     "name": "stdout",
     "output_type": "stream",
     "text": [
      "10\n",
      "['10', 'No passing for vehicles over 3.5 metric tons']\n"
     ]
    },
    {
     "data": {
      "image/png": "[encoded data removed]",
      "text/plain": [
       "<Figure size 72x72 with 1 Axes>"
      ]
     },
     "metadata": {
      "needs_background": "light"
     },
     "output_type": "display_data"
    }
   ],
   "source": [
    "### Data exploration visualization code goes here.\n",
    "### Feel free to use as many code cells as needed.\n",
    "# Visualizations will be shown in the notebook.\n",
    "\n",
    "index = random.randint(0, len(X_train))\n",
    "image = X_train[index].squeeze()\n",
    "\n",
    "plt.figure(figsize=(1,1))\n",
    "plt.imshow(image, cmap=\"gray\")\n",
    "print(y_train[index])\n",
    "print(list(signnames)[y_train[index]])"
   ]
  },
  {
   "cell_type": "code",
   "execution_count": 6,
   "metadata": {},
   "outputs": [
    {
     "name": "stdout",
     "output_type": "stream",
     "text": [
      "28\n",
      "['28', 'Children crossing']\n"
     ]
    },
    {
     "data": {
      "image/png": "[encoded data removed]",
      "text/plain": [
       "<Figure size 72x72 with 1 Axes>"
      ]
     },
     "metadata": {
      "needs_background": "light"
     },
     "output_type": "display_data"
    }
   ],
   "source": [
    "index = random.randint(0, len(X_valid))\n",
    "image = X_valid[index].squeeze()\n",
    "\n",
    "plt.figure(figsize=(1,1))\n",
    "plt.imshow(image, cmap=\"gray\")\n",
    "print(y_valid[index])\n",
    "print(list(signnames)[y_valid[index]])"
   ]
  },
  {
   "cell_type": "markdown",
   "metadata": {},
   "source": [
    "----\n",
    "\n",
    "## Step 2: Design and Test a Model Architecture\n",
    "\n",
    "Design and implement a deep learning model that learns to recognize traffic signs. Train and test your model on the [German Traffic Sign Dataset](http://benchmark.ini.rub.de/?section=gtsrb&subsection=dataset).\n",
    "\n",
    "The LeNet-5 implementation shown in the [classroom](https://classroom.udacity.com/nanodegrees/nd013/parts/fbf77062-5703-404e-b60c-95b78b2f3f9e/modules/6df7ae49-c61c-4bb2-a23e-6527e69209ec/lessons/601ae704-1035-4287-8b11-e2c2716217ad/concepts/d4aca031-508f-4e0b-b493-e7b706120f81) at the end of the CNN lesson is a solid starting point. You'll have to change the number of classes and possibly the preprocessing, but aside from that it's plug and play! \n",
    "\n",
    "With the LeNet-5 solution from the lecture, you should expect a validation set accuracy of about 0.89. To meet specifications, the validation set accuracy will need to be at least 0.93. It is possible to get an even higher accuracy, but 0.93 is the minimum for a successful project submission. \n",
    "\n",
    "There are various aspects to consider when thinking about this problem:\n",
    "\n",
    "- Neural network architecture (is the network over or underfitting?)\n",
    "- Play around preprocessing techniques (normalization, rgb to grayscale, etc)\n",
    "- Number of examples per label (some have more than others).\n",
    "- Generate fake data.\n",
    "\n",
    "Here is an example of a [published baseline model on this problem](http://yann.lecun.com/exdb/publis/pdf/sermanet-ijcnn-11.pdf). It's not required to be familiar with the approach used in the paper but, it's good practice to try to read papers like these."
   ]
  },
  {
   "cell_type": "markdown",
   "metadata": {},
   "source": [
    "### Pre-process the Data Set (normalization, grayscale, etc.)"
   ]
  },
  {
   "cell_type": "markdown",
   "metadata": {},
   "source": [
    "Minimally, the image data should be normalized so that the data has mean zero and equal variance. For image data, `(pixel - 128)/ 128` is a quick way to approximately normalize the data and can be used in this project. \n",
    "\n",
    "Other pre-processing steps are optional. You can try different techniques to see if it improves performance. \n",
    "\n",
    "Use the code cell (or multiple code cells, if necessary) to implement the first step of your project."
   ]
  },
  {
   "cell_type": "markdown",
   "metadata": {},
   "source": [
    "### option 1 : Normalized "
   ]
  },
  {
   "cell_type": "code",
   "execution_count": 8,
   "metadata": {
    "scrolled": true
   },
   "outputs": [
    {
     "name": "stdout",
     "output_type": "stream",
     "text": [
      "['36', 'Go straight or right']\n"
     ]
    },
    {
     "data": {
      "image/png": "[encoded data removed]",
      "text/plain": [
       "<Figure size 576x216 with 2 Axes>"
      ]
     },
     "metadata": {
      "needs_background": "light"
     },
     "output_type": "display_data"
    }
   ],
   "source": [
    "index = random.randint(0, len(X_valid))\n",
    "image = X_valid[index].squeeze()\n",
    "gray = cv2.cvtColor(image,cv2.COLOR_BGR2GRAY)\n",
    "img2=(gray-np.mean(gray))/np.std(gray)*255\n",
    "print(list(signnames)[y_valid[index]])\n",
    "f, (ax1, ax2) = plt.subplots(1, 2, figsize=(8, 3))\n",
    "f.tight_layout()\n",
    "ax1.imshow(image)\n",
    "ax1.set_title('Original Image', fontsize=10)\n",
    "ax2.imshow(img2, cmap='gray')\n",
    "ax2.set_title('Preprocessed', fontsize=10)\n",
    "plt.subplots_adjust(left=0., right=1, top=0.9, bottom=0.)"
   ]
  },
  {
   "cell_type": "code",
   "execution_count": 9,
   "metadata": {},
   "outputs": [
    {
     "name": "stdout",
     "output_type": "stream",
     "text": [
      "['4', 'Speed limit (70km/h)']\n"
     ]
    },
    {
     "data": {
      "image/png": "[encoded data removed]",
      "text/plain": [
       "<Figure size 720x216 with 4 Axes>"
      ]
     },
     "metadata": {
      "needs_background": "light"
     },
     "output_type": "display_data"
    }
   ],
   "source": [
    "index = random.randint(0, len(X_train))\n",
    "image = X_train[index].squeeze()\n",
    "#(b, g, r) = cv2.split(image)\n",
    "img=image.copy()\n",
    "b = image[:,:,0]\n",
    "g = image[:,:,1]\n",
    "r = image[:,:,2]\n",
    "image[:,:,0] = (b-128)/128*255\n",
    "image[:,:,1] = (g-128)/128*255\n",
    "image[:,:,2] = (r-128)/128*255\n",
    "f, ax1 = plt.subplots(1, 4, figsize=(10, 3))\n",
    "f.tight_layout()\n",
    "ax1[0].imshow(img)\n",
    "ax1[0].set_title('Original Image', fontsize=10)\n",
    "ax1[1].imshow(image[:,:,0])\n",
    "ax1[1].set_title('Preprocessed_b', fontsize=10)\n",
    "ax1[2].imshow(image[:,:,1])\n",
    "ax1[2].set_title('Preprocessed_g', fontsize=10)\n",
    "ax1[3].imshow(image[:,:,2])\n",
    "ax1[3].set_title('Preprocessed_r', fontsize=10)\n",
    "\n",
    "plt.subplots_adjust(left = 0., right=1, top=0.9, bottom=0.)\n",
    "print(list(signnames)[y_train[index]])"
   ]
  },
  {
   "cell_type": "markdown",
   "metadata": {},
   "source": [
    "### RGB normalization "
   ]
  },
  {
   "cell_type": "code",
   "execution_count": 7,
   "metadata": {},
   "outputs": [],
   "source": [
    "X_train_preprocessed =[]\n",
    "for index in range(n_train):\n",
    "    final = np.empty((32,32,1))\n",
    "    image = X_train[index].squeeze()\n",
    "    #b = image[:,:,0]\n",
    "    #g = image[:,:,1]\n",
    "    #r = image[:,:,2]\n",
    "    gray = cv2.cvtColor(image,cv2.COLOR_BGR2GRAY)\n",
    "    #image[:,:,0] = (b-np.mean(b))/np.std(b)\n",
    "    #image[:,:,1] = (g-np.mean(g))/np.std(g)\n",
    "    #image[:,:,2] = (r-np.mean(r))/np.std(r)\n",
    "    #final[:,:,0] = (b-128)/128\n",
    "    #final[:,:,1] = (g-128)/128\n",
    "    #final[:,:,2] = (r-128)/128\n",
    "    final[:,:,0] = gray\n",
    "#    img = cv2.merge((b1,g1,r1))\n",
    "    X_train_preprocessed.append(final)"
   ]
  },
  {
   "cell_type": "code",
   "execution_count": 8,
   "metadata": {
    "scrolled": true
   },
   "outputs": [
    {
     "data": {
      "text/plain": [
       "(32, 32, 1)"
      ]
     },
     "execution_count": 8,
     "metadata": {},
     "output_type": "execute_result"
    }
   ],
   "source": [
    "X_train_preprocessed[1].shape"
   ]
  },
  {
   "cell_type": "code",
   "execution_count": 9,
   "metadata": {},
   "outputs": [],
   "source": [
    "X_valid_preprocessed =[];\n",
    "for index in range(n_validation):\n",
    "    final = np.empty((32,32,1))\n",
    "    image = X_valid[index].squeeze()\n",
    "    #b = image[:,:,0]\n",
    "    #g = image[:,:,1]\n",
    "    #r = image[:,:,2]\n",
    "    gray = cv2.cvtColor(image,cv2.COLOR_BGR2GRAY)\n",
    "    #image[:,:,0] = (b-np.mean(b))/np.std(b)\n",
    "    #image[:,:,1] = (g-np.mean(g))/np.std(g)\n",
    "    #image[:,:,2] = (r-np.mean(r))/np.std(r)    \n",
    "    #final[:,:,0] = (b-128)/128\n",
    "    #final[:,:,1] = (g-128)/128\n",
    "    #final[:,:,2] = (r-128)/128  \n",
    "    final[:,:,0] = gray\n",
    "    #(b, g, r) = cv2.split(image)\n",
    "    #img = cv2.merge((b1,g1,r1))\n",
    "    X_valid_preprocessed.append(final)"
   ]
  },
  {
   "cell_type": "code",
   "execution_count": 10,
   "metadata": {},
   "outputs": [
    {
     "data": {
      "text/plain": [
       "(32, 32, 1)"
      ]
     },
     "execution_count": 10,
     "metadata": {},
     "output_type": "execute_result"
    }
   ],
   "source": [
    "X_valid_preprocessed[1].shape"
   ]
  },
  {
   "cell_type": "markdown",
   "metadata": {},
   "source": [
    "### BRG2GRAY"
   ]
  },
  {
   "cell_type": "code",
   "execution_count": 26,
   "metadata": {},
   "outputs": [],
   "source": [
    "X_train_preprocessed =[];\n",
    "for index in range(n_train):\n",
    "    image = X_train[index].squeeze()\n",
    "    gray = cv2.cvtColor(image,cv2.COLOR_BGR2GRAY)\n",
    "    image[:,:,0] = cv2.cvtColor(image,cv2.COLOR_BGR2GRAY)\n",
    "    image[:,:,1] = cv2.cvtColor(image,cv2.COLOR_BGR2GRAY)\n",
    "    image[:,:,2] = cv2.cvtColor(image,cv2.COLOR_BGR2GRAY)\n",
    "    #img2=(gray-np.mean(gray))/np.std(gray)\n",
    "    X_train_preprocessed.append(gray)"
   ]
  },
  {
   "cell_type": "code",
   "execution_count": 27,
   "metadata": {},
   "outputs": [],
   "source": [
    "X_valid_preprocessed =[];\n",
    "for index in range(n_validation):\n",
    "    image = X_valid[index].squeeze()\n",
    "    gray = cv2.cvtColor(image,cv2.COLOR_BGR2GRAY)\n",
    "    #image[:,:,0] = cv2.cvtColor(image,cv2.COLOR_BGR2GRAY)\n",
    "    #image[:,:,1] = cv2.cvtColor(image,cv2.COLOR_BGR2GRAY)\n",
    "    #image[:,:,2] = cv2.cvtColor(image,cv2.COLOR_BGR2GRAY)\n",
    "    #img2=(gray-np.mean(gray))/np.std(gray)\n",
    "    X_valid_preprocessed.append(gray)"
   ]
  },
  {
   "cell_type": "code",
   "execution_count": 28,
   "metadata": {
    "scrolled": true
   },
   "outputs": [
    {
     "data": {
      "text/plain": [
       "(32, 32)"
      ]
     },
     "execution_count": 28,
     "metadata": {},
     "output_type": "execute_result"
    }
   ],
   "source": [
    "X_valid_preprocessed[1].shape"
   ]
  },
  {
   "cell_type": "markdown",
   "metadata": {},
   "source": [
    "### Data Augmentation\n",
    "Creating Patterns using Translation, Rotation, and Reflection. Goal is to boost the numbers of images in all categories to 2120 (= maximum of frequency) \n",
    "I found 6 methods in the following link\n",
    "https://nanonets.com/blog/data-augmentation-how-to-use-deep-learning-when-you-have-limited-data-part-2/"
   ]
  },
  {
   "cell_type": "code",
   "execution_count": 8,
   "metadata": {
    "scrolled": true
   },
   "outputs": [
    {
     "data": {
      "image/png": "[encoded data removed]",
      "text/plain": [
       "<Figure size 1440x432 with 1 Axes>"
      ]
     },
     "metadata": {
      "needs_background": "light"
     },
     "output_type": "display_data"
    }
   ],
   "source": [
    "f = plt.figure(figsize=(20,6))\n",
    "n, bins, patches = plt.hist(x = y_train, bins = 43, color='blue',alpha=0.75, rwidth=1)\n",
    "plt.plot(figsize=(24,6))\n",
    "plt.hist(y_train, bins=100)\n",
    "plt.grid(axis='y', alpha=0.75)\n",
    "plt.xlabel('sign number')\n",
    "plt.ylabel('Frequency')\n",
    "plt.title('Histogram')\n",
    "maxfreq = n.max()\n",
    "# Set a clean upper y-axis limit.\n",
    "plt.ylim(ymax=np.ceil(maxfreq / 10) * 1 if maxfreq % 10 else maxfreq + 100)\n",
    "plt.xticks(range(43),range(43))\n",
    "plt.show()"
   ]
  },
  {
   "cell_type": "code",
   "execution_count": 10,
   "metadata": {},
   "outputs": [
    {
     "name": "stdout",
     "output_type": "stream",
     "text": [
      "180.0 2010.0\n"
     ]
    }
   ],
   "source": [
    "print(n[n>1].min(), n[n>1].max())"
   ]
  },
  {
   "cell_type": "markdown",
   "metadata": {},
   "source": [
    "### 1. Flip\n"
   ]
  },
  {
   "cell_type": "raw",
   "metadata": {},
   "source": [
    "# NumPy.'img' = A single image.\n",
    "flip_1 = np.fliplr(img)\n",
    "# TensorFlow. 'x' = A placeholder for an image.\n",
    "shape = [height, width, channels]\n",
    "x = tf.placeholder(dtype = tf.float32, shape = shape)\n",
    "flip_2 = tf.image.flip_up_down(x)\n",
    "flip_3 = tf.image.flip_left_right(x)\n",
    "flip_4 = tf.image.random_flip_up_down(x)\n",
    "flip_5 = tf.image.random_flip_left_right(x)"
   ]
  },
  {
   "cell_type": "code",
   "execution_count": 186,
   "metadata": {},
   "outputs": [
    {
     "name": "stdout",
     "output_type": "stream",
     "text": [
      "['18', 'General caution']\n"
     ]
    },
    {
     "data": {
      "image/png": "[encoded data removed]",
      "text/plain": [
       "<Figure size 576x216 with 3 Axes>"
      ]
     },
     "metadata": {
      "needs_background": "light"
     },
     "output_type": "display_data"
    }
   ],
   "source": [
    "index = random.randint(0, len(X_train))\n",
    "image = X_train[index].squeeze()\n",
    "shape = [32, 32, 3]\n",
    "x = tf.placeholder(\"uint8\", shape = shape)\n",
    "flip_1 = tf.image.flip_up_down(x)\n",
    "flip_2 = tf.image.flip_left_right(x)\n",
    "\n",
    "with tf.Session() as session:\n",
    "    result_1 = session.run(flip_1, feed_dict={x: image})  \n",
    "    result_2 = session.run(flip_2, feed_dict={x: image})  \n",
    "    \n",
    "f, ax1 = plt.subplots(1, 3, figsize=(8, 3))\n",
    "f.tight_layout() \n",
    "ax1[0].imshow(image)\n",
    "ax1[0].set_title('Original Image', fontsize=10)\n",
    "ax1[1].imshow(result_1, cmap = 'gray')\n",
    "ax1[1].set_title('flip_up_down', fontsize=10)\n",
    "ax1[2].imshow(result_2, cmap = 'gray')\n",
    "ax1[2].set_title('flip_left_right', fontsize=10)\n",
    "plt.subplots_adjust(left = 0., right=1, top=0.9, bottom=0.)\n",
    "print(list(signnames)[y_train[index]])"
   ]
  },
  {
   "cell_type": "markdown",
   "metadata": {},
   "source": [
    "### 2. Rotation"
   ]
  },
  {
   "cell_type": "code",
   "execution_count": 187,
   "metadata": {},
   "outputs": [
    {
     "name": "stdout",
     "output_type": "stream",
     "text": [
      "['17', 'No entry']\n"
     ]
    },
    {
     "data": {
      "image/png": "[encoded data removed]",
      "text/plain": [
       "<Figure size 576x216 with 5 Axes>"
      ]
     },
     "metadata": {
      "needs_background": "light"
     },
     "output_type": "display_data"
    }
   ],
   "source": [
    "# Placeholders: 'x' = A single image, 'y' = A batch of images\n",
    "# 'k' denotes the number of 90 degree anticlockwise rotations\n",
    "\n",
    "index = random.randint(0, len(X_train))\n",
    "image = X_train[index].squeeze()\n",
    "shape = [32, 32, 3]\n",
    "x = tf.placeholder(dtype = tf.float32, shape = shape)\n",
    "rot_90 = tf.image.rot90(x, k=1)\n",
    "rot_180 = tf.image.rot90(x, k=2)\n",
    "# To rotate in any angle. In the example below, 'angles' is in radians\n",
    "y = tf.placeholder(dtype = tf.float32, shape = shape)\n",
    "rot_p45 = tf.contrib.image.rotate(y, angles=3.1415/4)\n",
    "rot_n45 = tf.contrib.image.rotate(y, angles=-3.1415/4)\n",
    "\n",
    "# Scikit-Image. 'angle' = Degrees. 'img' = Input Image\n",
    "# For details about 'mode', checkout the interpolation section below.\n",
    "#rot = skimage.transform.rotate(imgae, angle=45, mode='reflect')\n",
    "\n",
    "with tf.Session() as session:\n",
    "    result_1 = session.run(rot_90, feed_dict={x: image}) \n",
    "    result_2 = session.run(rot_180, feed_dict={x: image})\n",
    "    result_3 = session.run(rot_p45, feed_dict={y: image})\n",
    "    result_4 = session.run(rot_n45, feed_dict={y: image})\n",
    "\n",
    "f, ax1 = plt.subplots(1, 5, figsize=(8, 3))\n",
    "f.tight_layout() \n",
    "ax1[0].imshow(image)\n",
    "ax1[0].set_title('Original Image', fontsize=10)\n",
    "ax1[1].imshow(result_1.astype(np.uint8))\n",
    "ax1[1].set_title('rot_90', fontsize=10)\n",
    "ax1[2].imshow(result_2.astype(np.uint8))\n",
    "ax1[2].set_title('rot_180', fontsize=10)\n",
    "ax1[3].imshow(result_3.astype(np.uint8))\n",
    "ax1[3].set_title('rot_p45', fontsize=10)\n",
    "ax1[4].imshow(result_4.astype(np.uint8))\n",
    "ax1[4].set_title('rot_pn45', fontsize=10)\n",
    "plt.subplots_adjust(left = 0., right=1, top=0.9, bottom=0.)\n",
    "print(list(signnames)[y_train[index]])"
   ]
  },
  {
   "cell_type": "markdown",
   "metadata": {},
   "source": [
    "### 3. Scale and 4. Crop "
   ]
  },
  {
   "cell_type": "code",
   "execution_count": 225,
   "metadata": {
    "scrolled": true
   },
   "outputs": [
    {
     "data": {
      "text/plain": [
       "Text(0.5, 1, 'scale_in')"
      ]
     },
     "execution_count": 225,
     "metadata": {},
     "output_type": "execute_result"
    },
    {
     "data": {
      "image/png": "[encoded data removed]",
      "text/plain": [
       "<Figure size 864x216 with 5 Axes>"
      ]
     },
     "metadata": {
      "needs_background": "light"
     },
     "output_type": "display_data"
    }
   ],
   "source": [
    "index = random.randint(0, len(X_train))\n",
    "image = X_train[index].squeeze()\n",
    "# Scikit Image. 'img' = Input Image, 'scale' = Scale factor\n",
    "# For details about 'mode', checkout the interpolation section below.\n",
    "scale_out_img = skimage.transform.rescale(image, scale=1.25, mode='constant')\n",
    "scale_in_img = skimage.transform.rescale(image, scale=0.75, mode='constant')\n",
    "# Don't forget to crop the images back to the original size (for \n",
    "# scale_out)\n",
    "\n",
    "original_size_1 = [32*1.25, 32*1.25, 3]\n",
    "original_size_2 = [32*0.75, 32*0.75, 3]\n",
    "x = tf.placeholder(dtype = tf.float32, shape = original_size_1)\n",
    "y = tf.placeholder(dtype = tf.float32, shape = original_size_2)\n",
    "\n",
    "# Use the following commands to perform random crops\n",
    "crop_size = [32, 32, 3]\n",
    "seed = np.random.randint(5)\n",
    "rotation_p =  3.1415*np.random.random_sample()\n",
    "rotation_n = -3.1415*np.random.random_sample()\n",
    "rot_randomp = tf.contrib.image.rotate(x, angles=rotation_p)\n",
    "rot_randomn = tf.contrib.image.rotate(x, angles=-rotation_n)\n",
    "\n",
    "scale_out_0 = tf.random_crop(x, size = crop_size, seed = seed)\n",
    "scale_out_1 = tf.random_crop(rot_randomp, size = crop_size, seed = seed)\n",
    "scale_out_2 = tf.random_crop(rot_randomn, size = crop_size, seed = seed)\n",
    "scale_in = tf.image.resize_images(y, size = [32, 32])\n",
    "\n",
    "with tf.Session() as session:\n",
    "    result_1 = session.run(scale_out_0, feed_dict={x: scale_out_img})*255 \n",
    "    result_2 = session.run(scale_out_1, feed_dict={x: scale_out_img})*255\n",
    "    result_3 = session.run(scale_out_2, feed_dict={x: scale_out_img})*255\n",
    "    result_4 = session.run(scale_in, feed_dict={y: scale_in_img})*255\n",
    "\n",
    "f, ax1 = plt.subplots(1, 5, figsize=(12, 3))\n",
    "f.tight_layout() \n",
    "ax1[0].imshow(image)\n",
    "ax1[0].set_title('Original Image', fontsize=10)\n",
    "ax1[1].imshow(result_1.astype(np.uint8))\n",
    "ax1[1].set_title('scale-out', fontsize=10)\n",
    "ax1[2].imshow(result_2.astype(np.uint8))\n",
    "ax1[2].set_title('scale-out-rotation_p', fontsize=10)\n",
    "ax1[3].imshow(result_3.astype(np.uint8))\n",
    "ax1[3].set_title('scale-out-rotation_n', fontsize=10)\n",
    "ax1[4].imshow(result_4.astype(np.uint8))\n",
    "ax1[4].set_title('scale_in', fontsize=10)"
   ]
  },
  {
   "cell_type": "markdown",
   "metadata": {},
   "source": [
    "### 4. Crop"
   ]
  },
  {
   "cell_type": "raw",
   "metadata": {},
   "source": [
    "# TensorFlow. 'x' = A placeholder for an image.\n",
    "original_size = [height, width, channels]\n",
    "x = tf.placeholder(dtype = tf.float32, shape = original_size)\n",
    "# Use the following commands to perform random crops\n",
    "crop_size = [new_height, new_width, channels]\n",
    "seed = np.random.randint(1234)\n",
    "x = tf.random_crop(x, size = crop_size, seed = seed)\n",
    "output = tf.images.resize_images(x, size = original_size)"
   ]
  },
  {
   "cell_type": "markdown",
   "metadata": {},
   "source": [
    "### 5. Translation"
   ]
  },
  {
   "cell_type": "code",
   "execution_count": 172,
   "metadata": {},
   "outputs": [
    {
     "ename": "ValueError",
     "evalue": "width must be <= target - offset",
     "output_type": "error",
     "traceback": [
      "\u001b[0;31m---------------------------------------------------------------------------\u001b[0m",
      "\u001b[0;31mValueError\u001b[0m                                Traceback (most recent call last)",
      "\u001b[0;32m<ipython-input-172-657bd42c13d1>\u001b[0m in \u001b[0;36m<module>\u001b[0;34m\u001b[0m\n\u001b[1;32m     13\u001b[0m \u001b[0;31m# We use two functions to get our desired augmentation\u001b[0m\u001b[0;34m\u001b[0m\u001b[0;34m\u001b[0m\u001b[0;34m\u001b[0m\u001b[0m\n\u001b[1;32m     14\u001b[0m \u001b[0;34m\u001b[0m\u001b[0m\n\u001b[0;32m---> 15\u001b[0;31m \u001b[0mx\u001b[0m \u001b[0;34m=\u001b[0m \u001b[0mtf\u001b[0m\u001b[0;34m.\u001b[0m\u001b[0mimage\u001b[0m\u001b[0;34m.\u001b[0m\u001b[0mpad_to_bounding_box\u001b[0m\u001b[0;34m(\u001b[0m\u001b[0mx\u001b[0m\u001b[0;34m,\u001b[0m \u001b[0moffset_height\u001b[0m\u001b[0;34m,\u001b[0m \u001b[0moffset_width\u001b[0m\u001b[0;34m,\u001b[0m \u001b[0mheight\u001b[0m \u001b[0;34m+\u001b[0m \u001b[0moffset_height\u001b[0m\u001b[0;34m,\u001b[0m \u001b[0mwidth\u001b[0m \u001b[0;34m+\u001b[0m \u001b[0moffset_width\u001b[0m\u001b[0;34m)\u001b[0m\u001b[0;34m\u001b[0m\u001b[0;34m\u001b[0m\u001b[0m\n\u001b[0m\u001b[1;32m     16\u001b[0m \u001b[0moutput\u001b[0m \u001b[0;34m=\u001b[0m \u001b[0mtf\u001b[0m\u001b[0;34m.\u001b[0m\u001b[0mimage\u001b[0m\u001b[0;34m.\u001b[0m\u001b[0mcrop_to_bounding_box\u001b[0m\u001b[0;34m(\u001b[0m\u001b[0mx\u001b[0m\u001b[0;34m,\u001b[0m \u001b[0moffset_height\u001b[0m\u001b[0;34m,\u001b[0m \u001b[0moffset_width\u001b[0m\u001b[0;34m,\u001b[0m \u001b[0mheight\u001b[0m \u001b[0;34m+\u001b[0m \u001b[0moffset_height\u001b[0m\u001b[0;34m,\u001b[0m \u001b[0mwidth\u001b[0m \u001b[0;34m+\u001b[0m \u001b[0moffset_width\u001b[0m\u001b[0;34m)\u001b[0m\u001b[0;34m\u001b[0m\u001b[0;34m\u001b[0m\u001b[0m\n\u001b[1;32m     17\u001b[0m \u001b[0;34m\u001b[0m\u001b[0m\n",
      "\u001b[0;32m//anaconda3/envs/carnd-trem1/lib/python3.7/site-packages/tensorflow/python/ops/image_ops_impl.py\u001b[0m in \u001b[0;36mpad_to_bounding_box\u001b[0;34m(image, offset_height, offset_width, target_height, target_width)\u001b[0m\n\u001b[1;32m    716\u001b[0m                           'offset_width must be >= 0')\n\u001b[1;32m    717\u001b[0m     assert_ops += _assert(after_padding_width >= 0, ValueError,\n\u001b[0;32m--> 718\u001b[0;31m                           'width must be <= target - offset')\n\u001b[0m\u001b[1;32m    719\u001b[0m     assert_ops += _assert(after_padding_height >= 0, ValueError,\n\u001b[1;32m    720\u001b[0m                           'height must be <= target - offset')\n",
      "\u001b[0;32m//anaconda3/envs/carnd-trem1/lib/python3.7/site-packages/tensorflow/python/ops/image_ops_impl.py\u001b[0m in \u001b[0;36m_assert\u001b[0;34m(cond, ex_type, msg)\u001b[0m\n\u001b[1;32m     81\u001b[0m   \u001b[0;32melse\u001b[0m\u001b[0;34m:\u001b[0m\u001b[0;34m\u001b[0m\u001b[0;34m\u001b[0m\u001b[0m\n\u001b[1;32m     82\u001b[0m     \u001b[0;32mif\u001b[0m \u001b[0;32mnot\u001b[0m \u001b[0mcond\u001b[0m\u001b[0;34m:\u001b[0m\u001b[0;34m\u001b[0m\u001b[0;34m\u001b[0m\u001b[0m\n\u001b[0;32m---> 83\u001b[0;31m       \u001b[0;32mraise\u001b[0m \u001b[0mex_type\u001b[0m\u001b[0;34m(\u001b[0m\u001b[0mmsg\u001b[0m\u001b[0;34m)\u001b[0m\u001b[0;34m\u001b[0m\u001b[0;34m\u001b[0m\u001b[0m\n\u001b[0m\u001b[1;32m     84\u001b[0m     \u001b[0;32melse\u001b[0m\u001b[0;34m:\u001b[0m\u001b[0;34m\u001b[0m\u001b[0;34m\u001b[0m\u001b[0m\n\u001b[1;32m     85\u001b[0m       \u001b[0;32mreturn\u001b[0m \u001b[0;34m[\u001b[0m\u001b[0;34m]\u001b[0m\u001b[0;34m\u001b[0m\u001b[0;34m\u001b[0m\u001b[0m\n",
      "\u001b[0;31mValueError\u001b[0m: width must be <= target - offset"
     ]
    }
   ],
   "source": [
    "# pad_left, pad_right, pad_top, pad_bottom denote the pixel \n",
    "# displacement. Set one of them to the desired value and rest to 0\n",
    "#shape = [batch, height, width, channels]\n",
    "index = random.randint(0, len(X_train))\n",
    "image = X_train[index].squeeze()\n",
    "\n",
    "offset_height=1\n",
    "offset_width=1\n",
    "height=32\n",
    "width=32\n",
    "shape = [height + offset_height, width + offset_width, 3]\n",
    "x = tf.placeholder(dtype = tf.float32, shape = shape)\n",
    "# We use two functions to get our desired augmentation\n",
    "\n",
    "x = tf.image.pad_to_bounding_box(x, offset_height, offset_width, height + offset_height, width + offset_width)\n",
    "output = tf.image.crop_to_bounding_box(x, offset_height, offset_width, height + offset_height, width + offset_width)\n",
    "\n",
    "with tf.Session() as session:\n",
    "    result = session.run(output, feed_dict={x: image}) \n",
    "\n",
    "f, ax1 = plt.subplots(1, 2, figsize=(8, 3))\n",
    "f.tight_layout() \n",
    "ax1[0].imshow(image)\n",
    "ax1[0].set_title('Original Image', fontsize=10)\n",
    "ax1[1].imshow(result.astype(np.uint8))\n",
    "ax1[1].set_title('flip_up_down', fontsize=10)   "
   ]
  },
  {
   "cell_type": "markdown",
   "metadata": {},
   "source": [
    "### 6. Gaussian Noise"
   ]
  },
  {
   "cell_type": "code",
   "execution_count": 173,
   "metadata": {},
   "outputs": [
    {
     "data": {
      "text/plain": [
       "Text(0.5, 1, 'flip_up_down')"
      ]
     },
     "execution_count": 173,
     "metadata": {},
     "output_type": "execute_result"
    },
    {
     "data": {
      "image/png": "[encoded data removed]",
      "text/plain": [
       "<Figure size 576x216 with 2 Axes>"
      ]
     },
     "metadata": {
      "needs_background": "light"
     },
     "output_type": "display_data"
    }
   ],
   "source": [
    "index = random.randint(0, len(X_train))\n",
    "image = X_train[index].squeeze()\n",
    "\n",
    "#TensorFlow. 'x' = A placeholder for an image.\n",
    "shape = [32, 32, 3]\n",
    "x = tf.placeholder(dtype = tf.float32, shape = shape)\n",
    "# Adding Gaussian noise\n",
    "noise = tf.random_normal(shape = tf.shape(x), mean=0.0, stddev=1, dtype=tf.float32)\n",
    "output = tf.add(x, noise)\n",
    "# Use the following commands to perform random crops\n",
    "\n",
    "with tf.Session() as session:\n",
    "    result = session.run(output, feed_dict={x: image}) \n",
    "    \n",
    "f, ax1 = plt.subplots(1, 2, figsize=(8, 3))\n",
    "f.tight_layout() \n",
    "ax1[0].imshow(image)\n",
    "ax1[0].set_title('Original Image', fontsize=10)\n",
    "ax1[1].imshow(result.astype(np.uint8))\n",
    "ax1[1].set_title('flip_up_down', fontsize=10)"
   ]
  },
  {
   "cell_type": "markdown",
   "metadata": {},
   "source": [
    "### Final Augmention"
   ]
  },
  {
   "cell_type": "code",
   "execution_count": null,
   "metadata": {},
   "outputs": [],
   "source": [
    "def data_augmentation(image):\n",
    "    shape = [32, 32, 3]\n",
    "    original_size_1 = [32*1.25, 32*1.25, 3]\n",
    "    original_size_2 = [32*0.75, 32*0.75, 3]\n",
    "    x = tf.placeholder(dtype = tf.float32, shape = shape)\n",
    "    x_plus = tf.placeholder(dtype = tf.float32, shape = original_size_1)\n",
    "    x_mius= tf.placeholder(dtype = tf.float32, shape = original_size_2)\n",
    "    flip_1 = tf.image.flip_up_down(x)\n",
    "    flip_2 = tf.image.flip_left_right(x)\n",
    "    rot_90 = tf.image.rot90(x, k=1)\n",
    "    rot_180 = tf.image.rot90(x, k=2)\n",
    "    scale_out_img = skimage.transform.rescale(image, scale=1.25, mode='constant')\n",
    "    scale_in_img = skimage.transform.rescale(image, scale=0.75, mode='constant')\n",
    "    crop_size = [32, 32, 3]\n",
    "    seed = np.random.randint(5)\n",
    "    rotation_p =  3.1415*np.random.random_sample()\n",
    "    rotation_n = -3.1415*np.random.random_sample()\n",
    "    rot_randomp = tf.contrib.image.rotate(x, angles=rotation_p)\n",
    "    rot_randomn = tf.contrib.image.rotate(x, angles=-rotation_n)\n",
    "    scale_out_0 = tf.random_crop(x, size = crop_size, seed = seed)\n",
    "    scale_out_1 = tf.random_crop(rot_randomp, size = crop_size, seed = seed)\n",
    "    scale_out_2 = tf.random_crop(rot_randomn, size = crop_size, seed = seed)\n",
    "    scale_in = tf.image.resize_images(y, size = [32, 32])\n",
    "\n",
    "    "
   ]
  },
  {
   "cell_type": "markdown",
   "metadata": {},
   "source": [
    "### After all data augmentation, here we are"
   ]
  },
  {
   "cell_type": "code",
   "execution_count": 8,
   "metadata": {},
   "outputs": [],
   "source": [
    "### Preprocess the data here. It is required to normalize the data. Other preprocessing steps could include \n",
    "### converting to grayscale, etc.\n",
    "### Feel free to use as many code cells as needed.\n",
    "for idx in range(len(X_train)):\n",
    "    image = X_train[index].squeeze()\n",
    "    image[:,:,4] = cv2.cvtColor(image,cv2.COLOR_BGR2GRAY)\n",
    "    img2=(gray-np.mean(gray))/np.std(gray)\n"
   ]
  },
  {
   "cell_type": "code",
   "execution_count": 9,
   "metadata": {},
   "outputs": [
    {
     "data": {
      "text/plain": [
       "(32, 32)"
      ]
     },
     "execution_count": 9,
     "metadata": {},
     "output_type": "execute_result"
    }
   ],
   "source": [
    "gray.shape"
   ]
  },
  {
   "cell_type": "markdown",
   "metadata": {},
   "source": [
    "### Model Architecture"
   ]
  },
  {
   "cell_type": "markdown",
   "metadata": {},
   "source": [
    "# LeNet- 5 Model\n",
    "![LeNet Architecture](lenet.png)\n",
    "Source: Yan LeCun"
   ]
  },
  {
   "cell_type": "markdown",
   "metadata": {},
   "source": [
    "### LeNet-5 Architecture"
   ]
  },
  {
   "cell_type": "code",
   "execution_count": 11,
   "metadata": {},
   "outputs": [],
   "source": [
    "### Define your architecture here.\n",
    "### Feel free to use as many code cells as needed.\n",
    "from tensorflow.contrib.layers import flatten\n",
    "\n",
    "def LeNet(x):    \n",
    "    # Arguments used for tf.truncated_normal, randomly defines variables for the weights and biases for each layer\n",
    "    mu = 0\n",
    "    sigma = 0.1\n",
    "    L2_ic = L1_oc\n",
    "    L3_ic = 5*5*L2_oc\n",
    "    L4_ic = L3_oc\n",
    "    L5_ic = L4_oc\n",
    "    # Layer 1: Convolutional. Input = 32x32x1. Output = 28x28x6.\n",
    "    conv1_W = tf.Variable(tf.truncated_normal(shape=(5, 5, L1_ic, L1_oc), mean = mu, stddev = sigma))\n",
    "    conv1_b = tf.Variable(tf.zeros(L1_oc))\n",
    "    conv1   = tf.nn.conv2d(x, conv1_W, strides=[1, 1, 1, 1], padding='VALID') + conv1_b\n",
    "    #print(\"layer 1 shape:\",x.get_shape())\n",
    "    # Relu Activation.\n",
    "    conv1 = tf.nn.relu(conv1)\n",
    "    \n",
    "    # Pooling. Input = 28x28x6. Output = 14x14x6.\n",
    "    conv1 = tf.nn.max_pool(conv1, ksize=[1, 2, 2, 1], strides=[1, 2, 2, 1], padding='VALID')\n",
    "\n",
    "    # Layer 2: Convolutional. Output = 10x10x16.\n",
    "    conv2_W = tf.Variable(tf.truncated_normal(shape=(5, 5, L2_ic, L2_oc), mean = mu, stddev = sigma))\n",
    "    conv2_b = tf.Variable(tf.zeros(L2_oc))\n",
    "    conv2   = tf.nn.conv2d(conv1, conv2_W, strides=[1, 1, 1, 1], padding='VALID') + conv2_b\n",
    "    \n",
    "    # Activation.\n",
    "    conv2 = tf.nn.relu(conv2)\n",
    "\n",
    "    # Pooling. Input = 10x10x12. Output = 5x5x16.\n",
    "    conv2 = tf.nn.max_pool(conv2, ksize=[1, 2, 2, 1], strides=[1, 2, 2, 1], padding='VALID')\n",
    "\n",
    "    # Flatten. Input = 5x5x12. Output = 300.\n",
    "    fc0   = flatten(conv2)\n",
    "    \n",
    "    # Layer 3: Fully Connected. Input = 300. Output = 90.\n",
    "    fc1_W = tf.Variable(tf.truncated_normal(shape=(L3_ic, L3_oc), mean = mu, stddev = sigma))\n",
    "    fc1_b = tf.Variable(tf.zeros(L3_oc))\n",
    "    fc1   = tf.matmul(fc0, fc1_W) + fc1_b\n",
    "    \n",
    "    # Activation.\n",
    "    fc1    = tf.nn.relu(fc1)\n",
    "\n",
    "    # Layer 4: Fully Connected. Input = 90. Output = 60.\n",
    "    fc2_W  = tf.Variable(tf.truncated_normal(shape=(L4_ic, L4_oc), mean = mu, stddev = sigma))\n",
    "    fc2_b  = tf.Variable(tf.zeros(L4_oc))\n",
    "    fc2    = tf.matmul(fc1, fc2_W) + fc2_b\n",
    "    \n",
    "    # Activation.\n",
    "    fc2    = tf.nn.relu(fc2)\n",
    "\n",
    "    # Layer 5: Fully Connected. Input = 84. Output = 43.\n",
    "    fc3_W  = tf.Variable(tf.truncated_normal(shape=(L5_ic, L5_oc), mean = mu, stddev = sigma))\n",
    "    fc3_b  = tf.Variable(tf.zeros(L5_oc))\n",
    "    logits = tf.matmul(fc2, fc3_W) + fc3_b\n",
    "    \n",
    "    return logits"
   ]
  },
  {
   "cell_type": "markdown",
   "metadata": {},
   "source": [
    "### Train, Validate and Test the Model"
   ]
  },
  {
   "cell_type": "markdown",
   "metadata": {},
   "source": [
    "A validation set can be used to assess how well the model is performing. A low accuracy on the training and validation\n",
    "sets imply underfitting. A high accuracy on the training set but low accuracy on the validation set implies overfitting."
   ]
  },
  {
   "cell_type": "code",
   "execution_count": 12,
   "metadata": {},
   "outputs": [],
   "source": [
    "### Train your model here.\n",
    "### Calculate and report the accuracy on the training and validation set.\n",
    "### Once a final model architecture is selected, \n",
    "### the accuracy on the test set should be calculated and reported as well.\n",
    "### Feel free to use as many code cells as needed.\n",
    "import tensorflow as tf\n",
    "\n",
    "EPOCHS = 20\n",
    "BATCH_SIZE = 128\n",
    "x = tf.placeholder(tf.float32, (None, 32, 32, 1))\n",
    "y = tf.placeholder(tf.int32, (None))\n",
    "one_hot_y = tf.one_hot(y, 43)"
   ]
  },
  {
   "cell_type": "code",
   "execution_count": 14,
   "metadata": {},
   "outputs": [],
   "source": [
    "rate = 0.001\n",
    "L1_ic = 1 \n",
    "L1_oc = 6\n",
    "L2_oc = 16\n",
    "L3_oc = 90\n",
    "L4_oc = 60\n",
    "L5_oc = 43\n",
    "\n",
    "logits = LeNet(x)\n",
    "cross_entropy = tf.nn.softmax_cross_entropy_with_logits(labels=one_hot_y, logits=logits)\n",
    "loss_operation = tf.reduce_mean(cross_entropy)\n",
    "optimizer = tf.train.AdamOptimizer(learning_rate = rate)\n",
    "training_operation = optimizer.minimize(loss_operation)"
   ]
  },
  {
   "cell_type": "markdown",
   "metadata": {},
   "source": [
    "## Model Evaluation\n",
    "Evaluate how well the loss and accuracy of the model for a given dataset.\n",
    "\n",
    "You do not need to modify this section."
   ]
  },
  {
   "cell_type": "code",
   "execution_count": 15,
   "metadata": {},
   "outputs": [],
   "source": [
    "correct_prediction = tf.equal(tf.argmax(logits, 1), tf.argmax(one_hot_y, 1))\n",
    "accuracy_operation = tf.reduce_mean(tf.cast(correct_prediction, tf.float32))\n",
    "saver = tf.train.Saver()\n",
    "\n",
    "def evaluate(X_data, y_data):\n",
    "    num_examples = len(X_data)\n",
    "    total_accuracy = 0\n",
    "    sess = tf.get_default_session()\n",
    "    for offset in range(0, num_examples, BATCH_SIZE):\n",
    "        batch_x, batch_y = X_data[offset:offset+BATCH_SIZE], y_data[offset:offset+BATCH_SIZE]\n",
    "        accuracy = sess.run(accuracy_operation, feed_dict={x: batch_x, y: batch_y})\n",
    "        total_accuracy += (accuracy * len(batch_x))\n",
    "    return total_accuracy / num_examples"
   ]
  },
  {
   "cell_type": "markdown",
   "metadata": {},
   "source": [
    "## Train the Model\n",
    "Run the training data through the training pipeline to train the model.\n",
    "\n",
    "Before each epoch, shuffle the training set.\n",
    "\n",
    "After each epoch, measure the loss and accuracy of the validation set.\n",
    "\n",
    "Save the model after training.\n",
    "\n",
    "You do not need to modify this section."
   ]
  },
  {
   "cell_type": "code",
   "execution_count": 16,
   "metadata": {},
   "outputs": [],
   "source": [
    "from sklearn.utils import shuffle"
   ]
  },
  {
   "cell_type": "code",
   "execution_count": 17,
   "metadata": {},
   "outputs": [
    {
     "data": {
      "text/plain": [
       "(32, 32, 4)"
      ]
     },
     "execution_count": 17,
     "metadata": {},
     "output_type": "execute_result"
    }
   ],
   "source": [
    "X_train_preprocessed[89].shape"
   ]
  },
  {
   "cell_type": "code",
   "execution_count": 18,
   "metadata": {},
   "outputs": [
    {
     "data": {
      "text/plain": [
       "(32, 32, 4)"
      ]
     },
     "execution_count": 18,
     "metadata": {},
     "output_type": "execute_result"
    }
   ],
   "source": [
    "X_valid_preprocessed[89].shape"
   ]
  },
  {
   "cell_type": "code",
   "execution_count": 17,
   "metadata": {},
   "outputs": [
    {
     "name": "stdout",
     "output_type": "stream",
     "text": [
      "Training...\n",
      "\n",
      "EPOCH 1 ...\n",
      "Train Accuracy = 0.740\n",
      "Validation Accuracy = 0.662\n",
      "\n",
      "EPOCH 2 ...\n",
      "Train Accuracy = 0.907\n",
      "Validation Accuracy = 0.809\n",
      "\n",
      "EPOCH 3 ...\n",
      "Train Accuracy = 0.946\n",
      "Validation Accuracy = 0.854\n",
      "\n",
      "EPOCH 4 ...\n",
      "Train Accuracy = 0.954\n",
      "Validation Accuracy = 0.855\n",
      "\n",
      "EPOCH 5 ...\n",
      "Train Accuracy = 0.970\n",
      "Validation Accuracy = 0.870\n",
      "\n",
      "EPOCH 6 ...\n",
      "Train Accuracy = 0.973\n",
      "Validation Accuracy = 0.881\n",
      "\n",
      "EPOCH 7 ...\n",
      "Train Accuracy = 0.979\n",
      "Validation Accuracy = 0.883\n",
      "\n",
      "EPOCH 8 ...\n",
      "Train Accuracy = 0.982\n",
      "Validation Accuracy = 0.882\n",
      "\n",
      "EPOCH 9 ...\n",
      "Train Accuracy = 0.979\n",
      "Validation Accuracy = 0.883\n",
      "\n",
      "EPOCH 10 ...\n",
      "Train Accuracy = 0.989\n",
      "Validation Accuracy = 0.895\n",
      "\n",
      "EPOCH 11 ...\n",
      "Train Accuracy = 0.989\n",
      "Validation Accuracy = 0.883\n",
      "\n",
      "EPOCH 12 ...\n",
      "Train Accuracy = 0.988\n",
      "Validation Accuracy = 0.895\n",
      "\n",
      "EPOCH 13 ...\n",
      "Train Accuracy = 0.986\n",
      "Validation Accuracy = 0.887\n",
      "\n",
      "EPOCH 14 ...\n",
      "Train Accuracy = 0.981\n",
      "Validation Accuracy = 0.889\n",
      "\n",
      "EPOCH 15 ...\n",
      "Train Accuracy = 0.990\n",
      "Validation Accuracy = 0.890\n",
      "\n",
      "EPOCH 16 ...\n",
      "Train Accuracy = 0.990\n",
      "Validation Accuracy = 0.884\n",
      "\n",
      "EPOCH 17 ...\n",
      "Train Accuracy = 0.982\n",
      "Validation Accuracy = 0.888\n",
      "\n",
      "EPOCH 18 ...\n",
      "Train Accuracy = 0.974\n",
      "Validation Accuracy = 0.889\n",
      "\n",
      "EPOCH 19 ...\n",
      "Train Accuracy = 0.992\n",
      "Validation Accuracy = 0.905\n",
      "\n",
      "EPOCH 20 ...\n",
      "Train Accuracy = 0.992\n",
      "Validation Accuracy = 0.905\n",
      "\n",
      "Model saved\n"
     ]
    }
   ],
   "source": [
    "# add some lines to monitor the validation progress\n",
    "with tf.Session() as sess:\n",
    "    sess.run(tf.global_variables_initializer())\n",
    "    num_examples = len(X_train_preprocessed)\n",
    "    \n",
    "    print(\"Training...\")\n",
    "    print()\n",
    "    train_log = []\n",
    "    valid_log = []\n",
    "    for i in range(EPOCHS):\n",
    "        X_train_preprocessed, y_train = shuffle(X_train_preprocessed, y_train)\n",
    "        for offset in range(0, num_examples, BATCH_SIZE):\n",
    "            end = offset + BATCH_SIZE\n",
    "            batch_x, batch_y = X_train_preprocessed[offset:end], y_train[offset:end]\n",
    "            sess.run(training_operation, feed_dict={x: batch_x, y: batch_y})\n",
    "              # for cheking for overfitting / underfitting\n",
    "            \n",
    "        train_accuracy = evaluate(X_train_preprocessed, y_train)\n",
    "        valid_accuracy = evaluate(X_valid_preprocessed, y_valid)\n",
    "        train_log.append(train_accuracy)\n",
    "        valid_log.append(valid_accuracy)          \n",
    "        print(\"EPOCH {} ...\".format(i+1))\n",
    "        print(\"Train Accuracy = {:.3f}\".format(train_accuracy))\n",
    "        print(\"Validation Accuracy = {:.3f}\".format(valid_accuracy))\n",
    "        print()\n",
    "        \n",
    "    saver.save(sess, './lenet')\n",
    "    print(\"Model saved\")"
   ]
  },
  {
   "cell_type": "code",
   "execution_count": 56,
   "metadata": {},
   "outputs": [
    {
     "data": {
      "image/png": "[encoded data removed]",
      "text/plain": [
       "<Figure size 432x288 with 1 Axes>"
      ]
     },
     "metadata": {
      "needs_background": "light"
     },
     "output_type": "display_data"
    }
   ],
   "source": [
    "plt.plot(train_log,'*-')\n",
    "plt.plot(valid_log,'o-')\n",
    "string ='Gray image, \\n rate = {0}, \\n L1_ic = {1},\\n L1_oc = {2}, \\n L2_oc = {3},\\n L3_oc = {4},\\n L4_oc = {5},\\n L5_oc = {6},\\n EPOCHS = 20, \\n BATCH_SIZE = 128'.format(rate, L1_ic, L1_oc, L2_oc, L3_oc, L4_oc, L5_oc) \n",
    "plt.text(EPOCHS/4, 0.1, string)\n",
    "plt.xlim([0, EPOCHS])\n",
    "plt.ylim([0, 1.1])\n",
    "plt.grid(axis='y', alpha=0.75);\n",
    "#plt.xticks(range(EPOCHS),range(EPOCHS));\n",
    "plt.legend(('Train', 'Validation'), loc='lower right')\n",
    "#plt.savefig('visualizations/' + 'training_9.png', bbox_inches='tight')"
   ]
  },
  {
   "cell_type": "code",
   "execution_count": 32,
   "metadata": {},
   "outputs": [
    {
     "data": {
      "text/plain": [
       "0.001"
      ]
     },
     "execution_count": 32,
     "metadata": {},
     "output_type": "execute_result"
    }
   ],
   "source": [
    "rate"
   ]
  },
  {
   "cell_type": "code",
   "execution_count": null,
   "metadata": {},
   "outputs": [
    {
     "name": "stdout",
     "output_type": "stream",
     "text": [
      "Training...\n",
      "\n",
      "EPOCH 1 ...\n",
      "Validation Accuracy = 0.567\n",
      "\n",
      "EPOCH 2 ...\n",
      "Validation Accuracy = 0.712\n",
      "\n",
      "EPOCH 3 ...\n",
      "Validation Accuracy = 0.766\n",
      "\n",
      "EPOCH 4 ...\n",
      "Validation Accuracy = 0.772\n",
      "\n",
      "EPOCH 5 ...\n",
      "Validation Accuracy = 0.794\n",
      "\n",
      "EPOCH 6 ...\n",
      "Validation Accuracy = 0.810\n",
      "\n",
      "EPOCH 7 ...\n",
      "Validation Accuracy = 0.817\n",
      "\n",
      "EPOCH 8 ...\n",
      "Validation Accuracy = 0.803\n",
      "\n",
      "EPOCH 9 ...\n",
      "Validation Accuracy = 0.850\n",
      "\n",
      "EPOCH 10 ...\n",
      "Validation Accuracy = 0.812\n",
      "\n",
      "EPOCH 11 ...\n",
      "Validation Accuracy = 0.832\n",
      "\n",
      "EPOCH 12 ...\n",
      "Validation Accuracy = 0.831\n",
      "\n",
      "EPOCH 13 ...\n",
      "Validation Accuracy = 0.850\n",
      "\n",
      "EPOCH 14 ...\n",
      "Validation Accuracy = 0.843\n",
      "\n",
      "EPOCH 15 ...\n",
      "Validation Accuracy = 0.844\n",
      "\n",
      "EPOCH 16 ...\n",
      "Validation Accuracy = 0.861\n",
      "\n"
     ]
    }
   ],
   "source": [
    "# add some lines to monitor the validation progress\n",
    "with tf.Session() as sess:\n",
    "    sess.run(tf.global_variables_initializer())\n",
    "    num_examples = len(X_train)\n",
    "    \n",
    "    print(\"Training...\")\n",
    "    print()\n",
    "    train_log = []\n",
    "    valid_log = []\n",
    "    for i in range(EPOCHS):\n",
    "        X_train, y_train = shuffle(X_train, y_train)\n",
    "        for offset in range(0, num_examples, BATCH_SIZE):\n",
    "            end = offset + BATCH_SIZE\n",
    "            batch_x, batch_y = X_train[offset:end], y_train[offset:end]\n",
    "            sess.run(training_operation, feed_dict={x: batch_x, y: batch_y})\n",
    "              # for cheking for overfitting / underfitting\n",
    "            \n",
    "        train_accuracy = evaluate(X_train, y_train)\n",
    "        valid_accuracy = evaluate(X_valid, y_valid)\n",
    "        train_log.append(train_accuracy)\n",
    "        valid_log.append(valid_accuracy)          \n",
    "        print(\"EPOCH {} ...\".format(i+1))\n",
    "        print(\"Validation Accuracy = {:.3f}\".format(valid_accuracy))\n",
    "        print()  \n",
    "    saver.save(sess, './lenet')\n",
    "    print(\"Model saved\")"
   ]
  },
  {
   "cell_type": "markdown",
   "metadata": {},
   "source": [
    "---\n",
    "\n",
    "## Step 3: Test a Model on New Images\n",
    "\n",
    "To give yourself more insight into how your model is working, download at least five pictures of German traffic signs from the web and use your model to predict the traffic sign type.\n",
    "\n",
    "You may find `signnames.csv` useful as it contains mappings from the class id (integer) to the actual sign name."
   ]
  },
  {
   "cell_type": "markdown",
   "metadata": {},
   "source": [
    "### Load and Output the Images"
   ]
  },
  {
   "cell_type": "code",
   "execution_count": null,
   "metadata": {
    "collapsed": true
   },
   "outputs": [],
   "source": [
    "### Load the images and plot them here.\n",
    "### Feel free to use as many code cells as needed."
   ]
  },
  {
   "cell_type": "markdown",
   "metadata": {},
   "source": [
    "### Predict the Sign Type for Each Image"
   ]
  },
  {
   "cell_type": "code",
   "execution_count": 3,
   "metadata": {
    "collapsed": true
   },
   "outputs": [],
   "source": [
    "### Run the predictions here and use the model to output the prediction for each image.\n",
    "### Make sure to pre-process the images with the same pre-processing pipeline used earlier.\n",
    "### Feel free to use as many code cells as needed."
   ]
  },
  {
   "cell_type": "markdown",
   "metadata": {},
   "source": [
    "### Analyze Performance"
   ]
  },
  {
   "cell_type": "code",
   "execution_count": 4,
   "metadata": {
    "collapsed": true
   },
   "outputs": [],
   "source": [
    "### Calculate the accuracy for these 5 new images. \n",
    "### For example, if the model predicted 1 out of 5 signs correctly, it's 20% accurate on these new images."
   ]
  },
  {
   "cell_type": "markdown",
   "metadata": {},
   "source": [
    "### Output Top 5 Softmax Probabilities For Each Image Found on the Web"
   ]
  },
  {
   "cell_type": "markdown",
   "metadata": {},
   "source": [
    "For each of the new images, print out the model's softmax probabilities to show the **certainty** of the model's predictions (limit the output to the top 5 probabilities for each image). [`tf.nn.top_k`](https://www.tensorflow.org/versions/r0.12/api_docs/python/nn.html#top_k) could prove helpful here. \n",
    "\n",
    "The example below demonstrates how tf.nn.top_k can be used to find the top k predictions for each image.\n",
    "\n",
    "`tf.nn.top_k` will return the values and indices (class ids) of the top k predictions. So if k=3, for each sign, it'll return the 3 largest probabilities (out of a possible 43) and the correspoding class ids.\n",
    "\n",
    "Take this numpy array as an example. The values in the array represent predictions. The array contains softmax probabilities for five candidate images with six possible classes. `tf.nn.top_k` is used to choose the three classes with the highest probability:\n",
    "\n",
    "```\n",
    "# (5, 6) array\n",
    "a = np.array([[ 0.24879643,  0.07032244,  0.12641572,  0.34763842,  0.07893497,\n",
    "         0.12789202],\n",
    "       [ 0.28086119,  0.27569815,  0.08594638,  0.0178669 ,  0.18063401,\n",
    "         0.15899337],\n",
    "       [ 0.26076848,  0.23664738,  0.08020603,  0.07001922,  0.1134371 ,\n",
    "         0.23892179],\n",
    "       [ 0.11943333,  0.29198961,  0.02605103,  0.26234032,  0.1351348 ,\n",
    "         0.16505091],\n",
    "       [ 0.09561176,  0.34396535,  0.0643941 ,  0.16240774,  0.24206137,\n",
    "         0.09155967]])\n",
    "```\n",
    "\n",
    "Running it through `sess.run(tf.nn.top_k(tf.constant(a), k=3))` produces:\n",
    "\n",
    "```\n",
    "TopKV2(values=array([[ 0.34763842,  0.24879643,  0.12789202],\n",
    "       [ 0.28086119,  0.27569815,  0.18063401],\n",
    "       [ 0.26076848,  0.23892179,  0.23664738],\n",
    "       [ 0.29198961,  0.26234032,  0.16505091],\n",
    "       [ 0.34396535,  0.24206137,  0.16240774]]), indices=array([[3, 0, 5],\n",
    "       [0, 1, 4],\n",
    "       [0, 5, 1],\n",
    "       [1, 3, 5],\n",
    "       [1, 4, 3]], dtype=int32))\n",
    "```\n",
    "\n",
    "Looking just at the first row we get `[ 0.34763842,  0.24879643,  0.12789202]`, you can confirm these are the 3 largest probabilities in `a`. You'll also notice `[3, 0, 5]` are the corresponding indices."
   ]
  },
  {
   "cell_type": "code",
   "execution_count": 3,
   "metadata": {
    "collapsed": true
   },
   "outputs": [],
   "source": [
    "### Print out the top five softmax probabilities for the predictions on the German traffic sign images found on the web. \n",
    "### Feel free to use as many code cells as needed."
   ]
  },
  {
   "cell_type": "markdown",
   "metadata": {},
   "source": [
    "### Project Writeup\n",
    "\n",
    "Once you have completed the code implementation, document your results in a project writeup using this [template](https://github.com/udacity/CarND-Traffic-Sign-Classifier-Project/blob/master/writeup_template.md) as a guide. The writeup can be in a markdown or pdf file. "
   ]
  },
  {
   "cell_type": "markdown",
   "metadata": {},
   "source": [
    "> **Note**: Once you have completed all of the code implementations and successfully answered each question above, you may finalize your work by exporting the iPython Notebook as an HTML document. You can do this by using the menu above and navigating to  \\n\",\n",
    "    \"**File -> Download as -> HTML (.html)**. Include the finished document along with this notebook as your submission."
   ]
  },
  {
   "cell_type": "markdown",
   "metadata": {},
   "source": [
    "---\n",
    "\n",
    "## Step 4 (Optional): Visualize the Neural Network's State with Test Images\n",
    "\n",
    " This Section is not required to complete but acts as an additional excersise for understaning the output of a neural network's weights. While neural networks can be a great learning device they are often referred to as a black box. We can understand what the weights of a neural network look like better by plotting their feature maps. After successfully training your neural network you can see what it's feature maps look like by plotting the output of the network's weight layers in response to a test stimuli image. From these plotted feature maps, it's possible to see what characteristics of an image the network finds interesting. For a sign, maybe the inner network feature maps react with high activation to the sign's boundary outline or to the contrast in the sign's painted symbol.\n",
    "\n",
    " Provided for you below is the function code that allows you to get the visualization output of any tensorflow weight layer you want. The inputs to the function should be a stimuli image, one used during training or a new one you provided, and then the tensorflow variable name that represents the layer's state during the training process, for instance if you wanted to see what the [LeNet lab's](https://classroom.udacity.com/nanodegrees/nd013/parts/fbf77062-5703-404e-b60c-95b78b2f3f9e/modules/6df7ae49-c61c-4bb2-a23e-6527e69209ec/lessons/601ae704-1035-4287-8b11-e2c2716217ad/concepts/d4aca031-508f-4e0b-b493-e7b706120f81) feature maps looked like for it's second convolutional layer you could enter conv2 as the tf_activation variable.\n",
    "\n",
    "For an example of what feature map outputs look like, check out NVIDIA's results in their paper [End-to-End Deep Learning for Self-Driving Cars](https://devblogs.nvidia.com/parallelforall/deep-learning-self-driving-cars/) in the section Visualization of internal CNN State. NVIDIA was able to show that their network's inner weights had high activations to road boundary lines by comparing feature maps from an image with a clear path to one without. Try experimenting with a similar test to show that your trained network's weights are looking for interesting features, whether it's looking at differences in feature maps from images with or without a sign, or even what feature maps look like in a trained network vs a completely untrained one on the same sign image.\n",
    "\n",
    "<figure>\n",
    " <img src=\"visualize_cnn.png\" width=\"380\" alt=\"Combined Image\" />\n",
    " <figcaption>\n",
    " <p></p> \n",
    " <p style=\"text-align: center;\"> Your output should look something like this (above)</p> \n",
    " </figcaption>\n",
    "</figure>\n",
    " <p></p> \n"
   ]
  },
  {
   "cell_type": "code",
   "execution_count": null,
   "metadata": {
    "collapsed": true
   },
   "outputs": [],
   "source": [
    "### Visualize your network's feature maps here.\n",
    "### Feel free to use as many code cells as needed.\n",
    "\n",
    "# image_input: the test image being fed into the network to produce the feature maps\n",
    "# tf_activation: should be a tf variable name used during your training procedure that represents the calculated state of a specific weight layer\n",
    "# activation_min/max: can be used to view the activation contrast in more detail, by default matplot sets min and max to the actual min and max values of the output\n",
    "# plt_num: used to plot out multiple different weight feature map sets on the same block, just extend the plt number for each new feature map entry\n",
    "\n",
    "def outputFeatureMap(image_input, tf_activation, activation_min=-1, activation_max=-1 ,plt_num=1):\n",
    "    # Here make sure to preprocess your image_input in a way your network expects\n",
    "    # with size, normalization, ect if needed\n",
    "    # image_input =\n",
    "    # Note: x should be the same name as your network's tensorflow data placeholder variable\n",
    "    # If you get an error tf_activation is not defined it may be having trouble accessing the variable from inside a function\n",
    "    activation = tf_activation.eval(session=sess,feed_dict={x : image_input})\n",
    "    featuremaps = activation.shape[3]\n",
    "    plt.figure(plt_num, figsize=(15,15))\n",
    "    for featuremap in range(featuremaps):\n",
    "        plt.subplot(6,8, featuremap+1) # sets the number of feature maps to show on each row and column\n",
    "        plt.title('FeatureMap ' + str(featuremap)) # displays the feature map number\n",
    "        if activation_min != -1 & activation_max != -1:\n",
    "            plt.imshow(activation[0,:,:, featuremap], interpolation=\"nearest\", vmin =activation_min, vmax=activation_max, cmap=\"gray\")\n",
    "        elif activation_max != -1:\n",
    "            plt.imshow(activation[0,:,:, featuremap], interpolation=\"nearest\", vmax=activation_max, cmap=\"gray\")\n",
    "        elif activation_min !=-1:\n",
    "            plt.imshow(activation[0,:,:, featuremap], interpolation=\"nearest\", vmin=activation_min, cmap=\"gray\")\n",
    "        else:\n",
    "            plt.imshow(activation[0,:,:, featuremap], interpolation=\"nearest\", cmap=\"gray\")"
   ]
  }
 ],
 "metadata": {
  "anaconda-cloud": {},
  "kernelspec": {
   "display_name": "Python 3",
   "language": "python",
   "name": "python3"
  },
  "language_info": {
   "codemirror_mode": {
    "name": "ipython",
    "version": 3
   },
   "file_extension": ".py",
   "mimetype": "text/x-python",
   "name": "python",
   "nbconvert_exporter": "python",
   "pygments_lexer": "ipython3",
   "version": "3.7.4"
  }
 },
 "nbformat": 4,
 "nbformat_minor": 1
}
